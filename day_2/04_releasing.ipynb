{
 "cells": [
  {
   "cell_type": "markdown",
   "metadata": {},
   "source": [
    "# Open Science and Collaboration: Git Tags, Semantic Versioning, and GitHub Releases\n",
    "\n",
    "Welcome to this interactive notebook on using Git tags, understanding semantic versioning, and creating GitHub releases. These concepts are essential for managing software versions, tracking releases, and enabling smooth collaboration in open science projects.\n",
    "\n",
    "In this notebook, we will:\n",
    "- Learn how to create and manage Git tags.\n",
    "- Understand and apply semantic versioning.\n",
    "- Learn to create GitHub releases based on Git tags.\n",
    "\n",
    "Let's get started!"
   ]
  },
  {
   "cell_type": "markdown",
   "id": "96e22b63",
   "metadata": {},
   "source": [
    "## Command Reference Table\n",
    "\n",
    "Here’s a quick reference table of all Git commands we’ll be using in this notebook:\n",
    "\n",
    "| Command                                  | Description                                                                                     |\n",
    "|------------------------------------------|-------------------------------------------------------------------------------------------------|\n",
    "| `git init`                               | Initializes a new Git repository.                                                               |\n",
    "| `git tag v1.0`                           | Creates a lightweight tag `v1.0` pointing to the latest commit.                                 |\n",
    "| `git tag -a v1.0 -m \"Message\"`           | Creates an annotated tag `v1.0` with a message.                                                 |\n",
    "| `git tag`                                | Lists all tags in the repository.                                                               |\n",
    "| `git show v1.0`                          | Displays details about the tag `v1.0`.                                                          |\n",
    "| `git log --tags --simplify-by-decoration --oneline` | Shows the commit history of tags, simplified for readability.                                   |\n",
    "\n",
    "These commands will be explored in detail with exercises as we proceed."
   ]
  },
  {
   "cell_type": "markdown",
   "metadata": {},
   "source": [
    "## Prerequisites\n",
    "\n",
    "This notebook assumes you have basic familiarity with Git commands and a GitHub account. Make sure you have Git installed and have set up a Git repository for practice.\n",
    "\n",
    "To set up:\n",
    "1. Open a terminal and create a new directory for this project.\n",
    "2. Initialize a Git repository using `git init`.\n",
    "3. Optionally, create a repository on GitHub and add it as a remote repository."
   ]
  },
  {
   "cell_type": "markdown",
   "metadata": {},
   "source": [
    "## Git Tags\n",
    "\n",
    "Tags in Git are used to mark specific points in a repository’s history, typically used to indicate release versions. Tags are helpful for tracking significant releases and revisiting previous versions when needed.\n",
    "\n",
    "### Types of Tags in Git\n",
    "1. **Lightweight Tag**: Just a pointer to a specific commit (like a branch, but doesn't move).\n",
    "2. **Annotated Tag**: Contains additional information, such as a message, the tagger's name, and the date.\n",
    "\n",
    "### Exercise 1: Creating a Tag\n",
    "Let's practice creating tags."
   ]
  },
  {
   "cell_type": "code",
   "execution_count": null,
   "metadata": {},
   "outputs": [],
   "source": [
    "# Instructions:\n",
    "# 1. Create a new tag named \"v1.0\" using the Git command below:\n",
    "#      git tag v1.0\n",
    "# 2. List all tags to verify that the tag was created:\n",
    "#      git tag\n",
    "\n",
    "# After creating the tag, answer these questions:\n",
    "# - What is the difference between a lightweight and an annotated tag?\n",
    "# - How would you add an annotated tag in Git?"
   ]
  },
  {
   "cell_type": "markdown",
   "metadata": {},
   "source": [
    "### Solution for Exercise 1\n",
    "\n",
    "1. To create an annotated tag named \"v1.0\" with a message, you can use:\n",
    "   ```bash\n",
    "   git tag -a v1.0 -m \"First official release\"\n",
    "   ```\n",
    "2. To view the tag, use:\n",
    "   ```bash\n",
    "   git tag\n",
    "   ```\n",
    "3. To display information about a specific tag:\n",
    "   ```bash\n",
    "   git show v1.0\n",
    "   ```"
   ]
  },
  {
   "cell_type": "markdown",
   "metadata": {},
   "source": [
    "## Semantic Versioning\n",
    "\n",
    "Semantic versioning (SemVer) is a versioning system that helps convey meaning about the underlying changes with each new release. It follows the format `MAJOR.MINOR.PATCH`.\n",
    "\n",
    "- **MAJOR** version when you make incompatible API changes.\n",
    "- **MINOR** version when you add functionality in a backward-compatible manner.\n",
    "- **PATCH** version when you make backward-compatible bug fixes.\n",
    "\n",
    "### Exercise 2: Analyzing Version Numbers\n",
    "Given the version numbers below, identify the types of changes:\n",
    "1. Version `1.2.0` to `1.3.0`\n",
    "2. Version `2.0.0` to `3.0.0`\n",
    "3. Version `2.2.1` to `2.2.2`\n",
    "\n",
    "Write your answers below."
   ]
  },
  {
   "cell_type": "markdown",
   "metadata": {},
   "source": [
    "### Solution for Exercise 2\n",
    "\n",
    "1. `1.2.0` to `1.3.0` - This is a **MINOR** version update, indicating new features added in a backward-compatible way.\n",
    "2. `2.0.0` to `3.0.0` - This is a **MAJOR** version update, indicating incompatible API changes.\n",
    "3. `2.2.1` to `2.2.2` - This is a **PATCH** version update, indicating backward-compatible bug fixes."
   ]
  },
  {
   "cell_type": "markdown",
   "metadata": {},
   "source": [
    "## GitHub Releases\n",
    "\n",
    "GitHub releases are associated with specific Git tags and provide a way to distribute release versions of software. Releases on GitHub allow you to upload release notes and binaries, making it easier for others to understand what each version includes.\n",
    "\n",
    "### Exercise 3: Create a GitHub Release\n",
    "1. Go to your repository on GitHub.\n",
    "2. Click on the **\"Releases\"** tab, then **\"Draft a new release\"**.\n",
    "3. Select an existing tag or create a new one.\n",
    "4. Add a title and release notes.\n",
    "5. Click **\"Publish release\"**.\n",
    "\n",
    "Answer the following questions:\n",
    "- How can releases help in open science projects?\n",
    "- What additional files or notes might you add to a release for scientific software?"
   ]
  },
  {
   "cell_type": "markdown",
   "metadata": {},
   "source": [
    "### Solution for Exercise 3\n",
    "\n",
    "- **Releases in Open Science**: Releases help by providing stable versions of the code that others can reference, replicate, or build upon in their own work. This helps maintain consistency and traceability across studies.\n",
    "- **Additional Files for Scientific Software**: You might include:\n",
    "  - Detailed release notes or changelogs.\n",
    "  - Installation instructions.\n",
    "  - Precompiled binaries or installers.\n",
    "  - Documentation on updates to algorithms, datasets, or analysis methods."
   ]
  },
  {
   "cell_type": "markdown",
   "metadata": {},
   "source": [
    "## Additional Practice Exercises\n",
    "\n",
    "1. **Exploring the Git History**:\n",
    "   - Check the history of tags in your project using:\n",
    "     ```bash\n",
    "     git log --tags --simplify-by-decoration --oneline\n",
    "     ```\n",
    "\n",
    "2. **Automating Semantic Versioning**:\n",
    "   - Research a tool like `semantic-release` for automatically generating version numbers based on the types of changes."
   ]
  },
  {
   "cell_type": "markdown",
   "metadata": {},
   "source": [
    "## Conclusion\n",
    "\n",
    "In this notebook, we've explored:\n",
    "- How to create and manage Git tags.\n",
    "- The principles of semantic versioning.\n",
    "- The process of creating GitHub releases.\n",
    "\n",
    "These practices support transparency, reproducibility, and collaboration in open science. Regular use of versioning and releases will make your projects more accessible and robust."
   ]
  }
 ],
 "metadata": {
  "kernelspec": {
   "display_name": "Python 3",
   "language": "python",
   "name": "python3"
  },
  "language_info": {
   "codemirror_mode": {
    "name": "ipython",
    "version": 3
   },
   "file_extension": ".py",
   "mimetype": "text/x-python",
   "name": "python",
   "nbconvert_exporter": "python",
   "pygments_lexer": "ipython3",
   "version": "3.8"
  }
 },
 "nbformat": 4,
 "nbformat_minor": 5
}
